{
 "cells": [
  {
   "cell_type": "markdown",
   "id": "0171f7d2-7bb8-4b34-abd2-8da539a26eb1",
   "metadata": {},
   "source": [
    "## Lecture 2: A First Parallel Program\n",
    "\n",
    "<div class=\"alert alert-success\">\n",
    "    This lecture is derived from Chapter 1 of Mattson, <i>Parallel Computing for Data Science</i>. The example in that chapter has been reimplemented in Python and the content and tone do not follow Mattson exactly.\n",
    "</div>\n",
    "\n",
    "\n",
    "    \n",
    "### Mutual Outlinks -- A First Parallel Program\n",
    "    \n",
    "Big data analytics and graph processing grew out of the desire to understand the structure of Internet content and user behavior. The most famous example is the [Page Rank algorithm](https://en.wikipedia.org/wiki/PageRank), which changed the nature of Internet search and was crucial in the creation and early success of Google. We will look at PageRank in more detail later in the course.\n",
    "    \n",
    "For now, we are going to look at a simpler (but, typical and important) problem. The goal is to identify Web pages that link to the same content. Multiple Web pages that link to the same content may represent:\n",
    "  * content clusters, i.e. similar pages\n",
    "  * search engine gamification, i.e. unimportant pages that are trying to increase the ranking of target pages\n",
    "    \n",
    " The input to this problem is a directed graph. Each Web page is a node in the graph and edges represent outlinks."
   ]
  },
  {
   "cell_type": "markdown",
   "id": "4290179b-d328-47b7-93e7-8a5966fd922a",
   "metadata": {},
   "source": [
    "The natural algorithm uses a binary (0/1) matrix representation of the graph in which the rows and columns are node identifiers and nonzero entries indicate an outbound edge. The algorithm uses nested loops to iterate over all pairs of rows, computing a vector dot product that sums that number of mutual outlinks. "
   ]
  },
  {
   "cell_type": "code",
   "execution_count": 4,
   "id": "czech-renaissance",
   "metadata": {},
   "outputs": [
    {
     "data": {
      "image/png": "[encoded data removed]",
      "text/plain": [
       "<Figure size 432x288 with 1 Axes>"
      ]
     },
     "metadata": {},
     "output_type": "display_data"
    }
   ],
   "source": [
    "import networkx as nx\n",
    "import matplotlib.pyplot as plt\n",
    "import numpy as np\n",
    "\n",
    "%matplotlib inline\n",
    "\n",
    "G = nx.erdos_renyi_graph(5,0.8, directed=True)\n",
    "nx.draw(G, pos=nx.spring_layout(G), node_size=50)"
   ]
  },
  {
   "cell_type": "code",
   "execution_count": 5,
   "id": "4fd5990f-117b-426f-96d0-50b242771af4",
   "metadata": {},
   "outputs": [
    {
     "data": {
      "text/plain": [
       "array([[0., 1., 1., 2., 2.],\n",
       "       [0., 0., 3., 1., 3.],\n",
       "       [0., 0., 0., 1., 3.],\n",
       "       [0., 0., 0., 0., 2.],\n",
       "       [0., 0., 0., 0., 0.]])"
      ]
     },
     "execution_count": 5,
     "metadata": {},
     "output_type": "execute_result"
    }
   ],
   "source": [
    "gmat = nx.to_numpy_matrix(G)\n",
    "\n",
    "outmat = np.zeros(gmat.shape)\n",
    "\n",
    "for i in range(gmat.shape[0]):\n",
    "    for j in range(i+1,gmat.shape[1]):        \n",
    "        outmat[i,j] = np.dot(np.asarray(gmat[i,:]).reshape(-1), np.asarray(gmat[j,:]).reshape(-1))\n",
    "outmat"
   ]
  },
  {
   "cell_type": "code",
   "execution_count": 8,
   "id": "collected-cargo",
   "metadata": {},
   "outputs": [
    {
     "name": "stdout",
     "output_type": "stream",
     "text": [
      "\u001b[31mERROR: Could not find a version that satisfies the requirement inspect\u001b[0m\n",
      "\u001b[31mERROR: No matching distribution found for inspect\u001b[0m\n",
      "\u001b[33mWARNING: You are using pip version 21.0.1; however, version 22.2.2 is available.\n",
      "You should consider upgrading via the '/Users/yuqifan/.pyenv/versions/3.9.1/bin/python3 -m pip install --upgrade pip' command.\u001b[0m\n"
     ]
    }
   ],
   "source": [
    "import sys\n",
    "!{sys.executable} -m pip install inspect"
   ]
  },
  {
   "cell_type": "markdown",
   "id": "5bf4f478-1cfb-4be1-8179-dcf2101df5c0",
   "metadata": {},
   "source": [
    "Observe that the output matrix is an upper or right triangular matrix. The lower left matrix if computed would be symmetric and redundant. We're trying to make code fast here. So, let's do no unneccessary work.\n",
    "\n",
    "Getting this code right is very touchy. You have to take the dot product of _arrays_ not matrixes, this is done through `reshape` which projects a 1xN matrix into a N element array.\n",
    "\n",
    "### Aside: The Power of Python\n",
    "\n",
    "Python has emerged as the language of choice for data science, Web development, and machine learning. The simplicity and concision of this program demonstrate why. Python is by no means the consensus __best__ language and many programming language experts have great disdain for Python's dynamic typing and syntax idiosyncracies (among other complaints). Much of what makes Python great is that Python is great! There is a huge network effect that has led to:\n",
    "  * an incredible number of high-quality and well maintained packages\n",
    "  * a huge user community that provides answers to every possible question you might have on Stack Overflow\n",
    "  * ridiculously wonderful development tools\n",
    "  * support on every platform that you can imagine\n",
    "  \n",
    "Here are reasons why I prefer Python to other languages. These are my opinions and not right:\n",
    "  * Go: a better language that is useless because it has no reasonable debugging tools\n",
    "  * R: a better language, but I cannot remember the syntax and am constantly looking stuff up\n",
    "  * Perl/PHP: a worse language with even looser rules and more pitfalls than Python\n",
    "  * JavaScript: too niche\n",
    "  * and so on\n",
    "  \n",
    "Ironically, Python is **the worst** language for parallelism. There is a single choke point that prevents Python from running any two operations in parallel. This is called the `Global Interpreter Lock (GIL)`. We will look at this more deeply later in this lecture. To realize parallelism in Python, we must work around this lock with a bunch of creative methods. \n",
    "\n",
    "#### Python Packages\n",
    "\n",
    "Our example leverages three important data science packages:\n",
    "  * numpy -- dense vector and matrix operations \n",
    "  * networkx -- graph and network analysis\n",
    "  * matplotlib -- graph and visualization \n",
    "  \n",
    "These package encapsulate complex functions so that you, the programmer, do not have to write them. Python packages encapsulate arbitrarily complex tasks in a single line of code. In this case:\n",
    "  * generate an Erdos-Renyi random graph\n",
    "  * display a planar representation of the graph\n",
    "  * convert the graph to a binary matrix\n",
    "  * compute the inner product of two vectors\n",
    "\n",
    "### Back to the Example\n",
    "\n",
    "Now let's generate a big graph and we'll start our performance analysis. Let's look at a serial version on a graph with 1000 nodes and about 5 outbound edges per node. "
   ]
  },
  {
   "cell_type": "code",
   "execution_count": 7,
   "id": "3b98ea36-8090-487b-8bd2-9bbf8aaf5e37",
   "metadata": {},
   "outputs": [
    {
     "ename": "AttributeError",
     "evalue": "module 'scipy.sparse' has no attribute 'coo_array'",
     "output_type": "error",
     "traceback": [
      "\u001b[0;31m---------------------------------------------------------------------------\u001b[0m",
      "\u001b[0;31mAttributeError\u001b[0m                            Traceback (most recent call last)",
      "\u001b[0;32m<ipython-input-7-146afa5b908c>\u001b[0m in \u001b[0;36m<module>\u001b[0;34m\u001b[0m\n\u001b[1;32m      1\u001b[0m \u001b[0mG\u001b[0m\u001b[0;34m=\u001b[0m \u001b[0mnx\u001b[0m\u001b[0;34m.\u001b[0m\u001b[0merdos_renyi_graph\u001b[0m\u001b[0;34m(\u001b[0m\u001b[0;36m1000\u001b[0m\u001b[0;34m,\u001b[0m\u001b[0;36m0.01\u001b[0m\u001b[0;34m,\u001b[0m\u001b[0mdirected\u001b[0m\u001b[0;34m=\u001b[0m\u001b[0;32mTrue\u001b[0m\u001b[0;34m)\u001b[0m\u001b[0;34m\u001b[0m\u001b[0;34m\u001b[0m\u001b[0m\n\u001b[0;32m----> 2\u001b[0;31m \u001b[0mnx\u001b[0m\u001b[0;34m.\u001b[0m\u001b[0mdraw\u001b[0m\u001b[0;34m(\u001b[0m\u001b[0mG\u001b[0m\u001b[0;34m,\u001b[0m \u001b[0mpos\u001b[0m\u001b[0;34m=\u001b[0m\u001b[0mnx\u001b[0m\u001b[0;34m.\u001b[0m\u001b[0mspring_layout\u001b[0m\u001b[0;34m(\u001b[0m\u001b[0mG\u001b[0m\u001b[0;34m)\u001b[0m\u001b[0;34m,\u001b[0m \u001b[0mnode_size\u001b[0m\u001b[0;34m=\u001b[0m\u001b[0;36m10\u001b[0m\u001b[0;34m)\u001b[0m\u001b[0;34m\u001b[0m\u001b[0;34m\u001b[0m\u001b[0m\n\u001b[0m\u001b[1;32m      3\u001b[0m \u001b[0mG\u001b[0m\u001b[0;34m.\u001b[0m\u001b[0mnumber_of_edges\u001b[0m\u001b[0;34m(\u001b[0m\u001b[0;34m)\u001b[0m\u001b[0;34m\u001b[0m\u001b[0;34m\u001b[0m\u001b[0m\n",
      "\u001b[0;32m~/.pyenv/versions/3.9.1/lib/python3.9/site-packages/networkx/utils/decorators.py\u001b[0m in \u001b[0;36margmap_spring_layout_5\u001b[0;34m(G, k, pos, fixed, iterations, threshold, weight, scale, center, dim, seed)\u001b[0m\n\u001b[1;32m      2\u001b[0m \u001b[0;32mimport\u001b[0m \u001b[0mcollections\u001b[0m\u001b[0;34m\u001b[0m\u001b[0;34m\u001b[0m\u001b[0m\n\u001b[1;32m      3\u001b[0m \u001b[0;32mimport\u001b[0m \u001b[0mgzip\u001b[0m\u001b[0;34m\u001b[0m\u001b[0;34m\u001b[0m\u001b[0m\n\u001b[0;32m----> 4\u001b[0;31m \u001b[0;32mimport\u001b[0m \u001b[0minspect\u001b[0m\u001b[0;34m\u001b[0m\u001b[0;34m\u001b[0m\u001b[0m\n\u001b[0m\u001b[1;32m      5\u001b[0m \u001b[0;32mimport\u001b[0m \u001b[0mitertools\u001b[0m\u001b[0;34m\u001b[0m\u001b[0;34m\u001b[0m\u001b[0m\n\u001b[1;32m      6\u001b[0m \u001b[0;32mimport\u001b[0m \u001b[0mre\u001b[0m\u001b[0;34m\u001b[0m\u001b[0;34m\u001b[0m\u001b[0m\n",
      "\u001b[0;32m~/.pyenv/versions/3.9.1/lib/python3.9/site-packages/networkx/drawing/layout.py\u001b[0m in \u001b[0;36mspring_layout\u001b[0;34m(G, k, pos, fixed, iterations, threshold, weight, scale, center, dim, seed)\u001b[0m\n\u001b[1;32m    474\u001b[0m         \u001b[0;32mif\u001b[0m \u001b[0mlen\u001b[0m\u001b[0;34m(\u001b[0m\u001b[0mG\u001b[0m\u001b[0;34m)\u001b[0m \u001b[0;34m<\u001b[0m \u001b[0;36m500\u001b[0m\u001b[0;34m:\u001b[0m  \u001b[0;31m# sparse solver for large graphs\u001b[0m\u001b[0;34m\u001b[0m\u001b[0;34m\u001b[0m\u001b[0m\n\u001b[1;32m    475\u001b[0m             \u001b[0;32mraise\u001b[0m \u001b[0mValueError\u001b[0m\u001b[0;34m\u001b[0m\u001b[0;34m\u001b[0m\u001b[0m\n\u001b[0;32m--> 476\u001b[0;31m         \u001b[0mA\u001b[0m \u001b[0;34m=\u001b[0m \u001b[0mnx\u001b[0m\u001b[0;34m.\u001b[0m\u001b[0mto_scipy_sparse_array\u001b[0m\u001b[0;34m(\u001b[0m\u001b[0mG\u001b[0m\u001b[0;34m,\u001b[0m \u001b[0mweight\u001b[0m\u001b[0;34m=\u001b[0m\u001b[0mweight\u001b[0m\u001b[0;34m,\u001b[0m \u001b[0mdtype\u001b[0m\u001b[0;34m=\u001b[0m\u001b[0;34m\"f\"\u001b[0m\u001b[0;34m)\u001b[0m\u001b[0;34m\u001b[0m\u001b[0;34m\u001b[0m\u001b[0m\n\u001b[0m\u001b[1;32m    477\u001b[0m         \u001b[0;32mif\u001b[0m \u001b[0mk\u001b[0m \u001b[0;32mis\u001b[0m \u001b[0;32mNone\u001b[0m \u001b[0;32mand\u001b[0m \u001b[0mfixed\u001b[0m \u001b[0;32mis\u001b[0m \u001b[0;32mnot\u001b[0m \u001b[0;32mNone\u001b[0m\u001b[0;34m:\u001b[0m\u001b[0;34m\u001b[0m\u001b[0;34m\u001b[0m\u001b[0m\n\u001b[1;32m    478\u001b[0m             \u001b[0;31m# We must adjust k by domain size for layouts not near 1x1\u001b[0m\u001b[0;34m\u001b[0m\u001b[0;34m\u001b[0m\u001b[0;34m\u001b[0m\u001b[0m\n",
      "\u001b[0;32m~/.pyenv/versions/3.9.1/lib/python3.9/site-packages/networkx/convert_matrix.py\u001b[0m in \u001b[0;36mto_scipy_sparse_array\u001b[0;34m(G, nodelist, dtype, weight, format)\u001b[0m\n\u001b[1;32m    907\u001b[0m \u001b[0;34m\u001b[0m\u001b[0m\n\u001b[1;32m    908\u001b[0m     \u001b[0;32mif\u001b[0m \u001b[0mG\u001b[0m\u001b[0;34m.\u001b[0m\u001b[0mis_directed\u001b[0m\u001b[0;34m(\u001b[0m\u001b[0;34m)\u001b[0m\u001b[0;34m:\u001b[0m\u001b[0;34m\u001b[0m\u001b[0;34m\u001b[0m\u001b[0m\n\u001b[0;32m--> 909\u001b[0;31m         \u001b[0mA\u001b[0m \u001b[0;34m=\u001b[0m \u001b[0msp\u001b[0m\u001b[0;34m.\u001b[0m\u001b[0msparse\u001b[0m\u001b[0;34m.\u001b[0m\u001b[0mcoo_array\u001b[0m\u001b[0;34m(\u001b[0m\u001b[0;34m(\u001b[0m\u001b[0mdata\u001b[0m\u001b[0;34m,\u001b[0m \u001b[0;34m(\u001b[0m\u001b[0mrow\u001b[0m\u001b[0;34m,\u001b[0m \u001b[0mcol\u001b[0m\u001b[0;34m)\u001b[0m\u001b[0;34m)\u001b[0m\u001b[0;34m,\u001b[0m \u001b[0mshape\u001b[0m\u001b[0;34m=\u001b[0m\u001b[0;34m(\u001b[0m\u001b[0mnlen\u001b[0m\u001b[0;34m,\u001b[0m \u001b[0mnlen\u001b[0m\u001b[0;34m)\u001b[0m\u001b[0;34m,\u001b[0m \u001b[0mdtype\u001b[0m\u001b[0;34m=\u001b[0m\u001b[0mdtype\u001b[0m\u001b[0;34m)\u001b[0m\u001b[0;34m\u001b[0m\u001b[0;34m\u001b[0m\u001b[0m\n\u001b[0m\u001b[1;32m    910\u001b[0m     \u001b[0;32melse\u001b[0m\u001b[0;34m:\u001b[0m\u001b[0;34m\u001b[0m\u001b[0;34m\u001b[0m\u001b[0m\n\u001b[1;32m    911\u001b[0m         \u001b[0;31m# symmetrize matrix\u001b[0m\u001b[0;34m\u001b[0m\u001b[0;34m\u001b[0m\u001b[0;34m\u001b[0m\u001b[0m\n",
      "\u001b[0;31mAttributeError\u001b[0m: module 'scipy.sparse' has no attribute 'coo_array'"
     ]
    }
   ],
   "source": [
    "G= nx.erdos_renyi_graph(1000,0.01,directed=True)\n",
    "nx.draw(G, pos=nx.spring_layout(G), node_size=10)\n",
    "G.number_of_edges()"
   ]
  },
  {
   "cell_type": "markdown",
   "id": "770c8f4c-9ddd-408f-a978-9644dfce1ecf",
   "metadata": {},
   "source": [
    "For a graph this large, we cannot look at the matrix. We track the number of edges and mutual outlinks as a quick check to make sure that subsequent versions of the program produce the same output. "
   ]
  },
  {
   "cell_type": "code",
   "execution_count": 16,
   "id": "81a5d7ae-55c0-4ca7-9b4c-55def7fee1af",
   "metadata": {},
   "outputs": [
    {
     "data": {
      "text/plain": [
       "47962"
      ]
     },
     "execution_count": 16,
     "metadata": {},
     "output_type": "execute_result"
    }
   ],
   "source": [
    "import numpy as np\n",
    "\n",
    "gmat = nx.to_numpy_matrix(G)\n",
    "\n",
    "outmat = np.zeros(gmat.shape)\n",
    "\n",
    "for i in range(gmat.shape[0]):\n",
    "    for j in range(i+1,gmat.shape[1]):        \n",
    "        outmat[i,j] = np.dot(np.asarray(gmat[i,:]).reshape(-1), np.asarray(gmat[j,:]).reshape(-1))\n",
    "        \n",
    "np.count_nonzero(outmat)"
   ]
  },
  {
   "cell_type": "markdown",
   "id": "2f346db9-ae5d-43c1-acc5-0ec27206f441",
   "metadata": {},
   "source": [
    "Jupyter has nice `magics` that inject a bunch of code to realize some goal.  The `%timeit` magic runs an experiment to time the performance of a command and ``%%timeit`` runs the experiment on an entire Jupyter cell."
   ]
  },
  {
   "cell_type": "code",
   "execution_count": 17,
   "id": "b34100f2-bdfc-4c59-abff-df7d62830c0c",
   "metadata": {},
   "outputs": [
    {
     "name": "stdout",
     "output_type": "stream",
     "text": [
      "5.49 s ± 183 ms per loop (mean ± std. dev. of 7 runs, 1 loop each)\n"
     ]
    }
   ],
   "source": [
    "%%timeit\n",
    "\n",
    "outmat = np.zeros(gmat.shape)\n",
    "\n",
    "for i in range(gmat.shape[0]):\n",
    "    for j in range(i+1,gmat.shape[1]):        \n",
    "        outmat[i,j] = np.dot(np.asarray(gmat[i,:]).reshape(-1), np.asarray(gmat[j,:]).reshape(-1))"
   ]
  },
  {
   "cell_type": "markdown",
   "id": "f860e3b2-be46-4e7a-a3be-5e5f8b0a4e73",
   "metadata": {},
   "source": [
    "This is the serial performance. Let's parallelize the program and compare. We will use the _loop parellelism_ pattern (Mattson Chapter 4, more on this later.) Our first parallel program will decompose the matrix into chunks of rows and compute the partial result from each chunk. It then assembles the partial results into a matrix so that the parallel computation produces the same result as the serial.\n",
    "\n",
    "`joblib` is a python package for parallelism. It inherits limitations from Python, but it is easy to use. This is the simplest program.\n",
    "\n",
    "<img src=\"https://storage.googleapis.com/coderzcolumn/static/tutorials/python/article_image/joblib.jpg\" width=\"512\" title=\"joblib\" /> \n"
   ]
  },
  {
   "cell_type": "code",
   "execution_count": 19,
   "id": "9b45a662-cc7f-459b-9bd3-139dbdffcad0",
   "metadata": {},
   "outputs": [
    {
     "data": {
      "text/plain": [
       "47962"
      ]
     },
     "execution_count": 19,
     "metadata": {},
     "output_type": "execute_result"
    }
   ],
   "source": [
    "def inner_loop(i):\n",
    "    partial_out = np.zeros(gmat.shape[1])\n",
    "    for j in range(i+1,gmat.shape[1]):    \n",
    "        partial_out[j] = np.dot(np.asarray(gmat[i,:]).reshape(-1), np.asarray(gmat[j,:]).reshape(-1))    \n",
    "    return partial_out\n",
    "    \n",
    "from joblib import Parallel, delayed\n",
    "partials = Parallel(n_jobs=8)(delayed(inner_loop)(i) for i in range(gmat.shape[0]))\n",
    "\n",
    "outmat = np.array(partials)\n",
    "np.count_nonzero(outmat)"
   ]
  },
  {
   "cell_type": "markdown",
   "id": "43e637b5-5347-45be-a919-ab109a10ae93",
   "metadata": {},
   "source": [
    "OK, let's time it."
   ]
  },
  {
   "cell_type": "code",
   "execution_count": 27,
   "id": "e1499dd4-08e9-4b77-91bd-59b9d642b7dc",
   "metadata": {},
   "outputs": [
    {
     "name": "stdout",
     "output_type": "stream",
     "text": [
      "3.34 s ± 254 ms per loop (mean ± std. dev. of 7 runs, 1 loop each)\n"
     ]
    }
   ],
   "source": [
    "%%timeit\n",
    "\n",
    "partials = Parallel(n_jobs=4)(delayed(inner_loop)(i) for i in range(gmat.shape[0]))"
   ]
  },
  {
   "cell_type": "markdown",
   "id": "3d47159f-2017-4426-971e-8037a93f4168",
   "metadata": {},
   "source": [
    "Great? That's faster, but not as fast as we would like. We are using 4 processors, we would naively expect it to be four times as fast. Alas, that's not the case. The next lecture on **Amdahl's Law** will explore why."
   ]
  },
  {
   "cell_type": "markdown",
   "id": "ae79e1a6-3f1e-43c6-adda-caf6b60945bc",
   "metadata": {},
   "source": [
    "### `joblib` parallelism\n",
    "\n",
    "What is `joblib` doing?\n",
    "  * `delayed`: define a function call, delay its execution until later\n",
    "  * create a generator that will enumerate all the delayed functions\n",
    "  * `Parallel` create multiple independent \"workers\" that split the list of work to do into `n_jobs` parts and run the delayed functions in parallel.\n",
    "  \n",
    "OK, so I said that you wouldn't have to learn list comprehensions, I lied. Python has a specific syntax for generating lists that is very cool. Here are a bunch of variants:"
   ]
  },
  {
   "cell_type": "code",
   "execution_count": 25,
   "id": "c3191b78-a0af-47a9-9268-3813cd950381",
   "metadata": {},
   "outputs": [
    {
     "data": {
      "text/plain": [
       "<generator object <genexpr> at 0x7fc3b958c270>"
      ]
     },
     "execution_count": 25,
     "metadata": {},
     "output_type": "execute_result"
    }
   ],
   "source": [
    "[i for i in range(10)]\n",
    "#[i*i for i in range(10)]\n",
    "#(i for i in range(10))\n",
    "#[x for x in (i for i in range(10))]\n",
    "#(delayed(inner_loop)(i) for i in range(gmat.shape[0]))"
   ]
  },
  {
   "cell_type": "markdown",
   "id": "0b578d2d-6883-475d-a1c0-63db0c7fa60d",
   "metadata": {},
   "source": [
    "The `f(x) for x in iterable` pattern arises all the time and produces a generator that will build a list. To materialize the list, one can use a comprehension, placing the generator in brackets."
   ]
  },
  {
   "cell_type": "markdown",
   "id": "df2a9b4e-50ce-498c-b268-0c6b58147038",
   "metadata": {},
   "source": [
    "## Poor Parallelism in Python and the GIL\n",
    "\n",
    "I previoulsy told you that Python was the **worst** language for parallelism.  This is due to something called the **Global Interpreter Lock (GIL)**. The GIL makes it so that an instance of the Python runtime accepts only a single instruction at a time. Because of the GIL, running multiple threads in Python provides concurrency, but not parallelism.\n",
    "  * *concurrent*: at the same time \n",
    "  * *parallel*: simultanesously\n",
    "  \n",
    "This is a subtle distinction. The best way to think about it is that `concurrency` means that multiple, asynchronous actions are defined. `parallelism` means that mutliple resources are computing at the same time.  Think of concurrency as a programming abstraction and parallelism as computing. \n",
    "  * Parallel programs must be concurrent. \n",
    "  * Concurrent programs are not necessarily run in parallel.\n",
    "  \n",
    "Let's do an example. Python `threads` are concurrent, but the GIL makes it so that Python only runs one instruction at a time. A simple program run serially and concurrently in threads will have about the same performance."
   ]
  },
  {
   "cell_type": "code",
   "execution_count": 31,
   "id": "4ee0c890-03e8-434d-a59b-9a34f912ec97",
   "metadata": {},
   "outputs": [
    {
     "name": "stdout",
     "output_type": "stream",
     "text": [
      "0.49721056755681203\n"
     ]
    }
   ],
   "source": [
    "from random import random\n",
    "\n",
    "def gen_random_01(count):\n",
    "    for i in range(count):\n",
    "        random()\n",
    "        \n",
    "gen_random_01(10)"
   ]
  },
  {
   "cell_type": "code",
   "execution_count": 32,
   "id": "e7319494-10fd-4396-a787-78a07610f815",
   "metadata": {},
   "outputs": [
    {
     "name": "stdout",
     "output_type": "stream",
     "text": [
      "231 ns ± 12.2 ns per loop (mean ± std. dev. of 7 runs, 1000000 loops each)\n"
     ]
    }
   ],
   "source": [
    "%%timeit \n",
    "\n",
    "gen_random_01(10000000)"
   ]
  },
  {
   "cell_type": "code",
   "execution_count": 33,
   "id": "5cc4ad1c-a8ac-4ce4-87b7-5bd9bffe47aa",
   "metadata": {},
   "outputs": [
    {
     "name": "stdout",
     "output_type": "stream",
     "text": [
      "429 µs ± 62.2 µs per loop (mean ± std. dev. of 7 runs, 1000 loops each)\n"
     ]
    }
   ],
   "source": [
    "%%timeit \n",
    "\n",
    "from threading import Thread\n",
    "\n",
    "for i in range(4):\n",
    "  Thread(target=gen_random_01, args=(2500000,)).start()"
   ]
  },
  {
   "cell_type": "markdown",
   "id": "c7b76b3c-ef15-455c-900d-efdafe3f7eac",
   "metadata": {},
   "source": [
    "To realize parallelism, one must use processes that create multiple seperate Python interpreters each with its own GIL."
   ]
  },
  {
   "cell_type": "code",
   "execution_count": 36,
   "id": "75695452-e337-4831-9b78-4050df52d2f8",
   "metadata": {},
   "outputs": [
    {
     "name": "stdout",
     "output_type": "stream",
     "text": [
      "77.5 ms ± 13.8 ms per loop (mean ± std. dev. of 7 runs, 10 loops each)\n"
     ]
    }
   ],
   "source": [
    "%%timeit\n",
    "\n",
    "from multiprocessing import Process\n",
    "\n",
    "for i in range(4):\n",
    "  Process(target=gen_random_01, args=(250000000,)).start()"
   ]
  },
  {
   "cell_type": "markdown",
   "id": "7e307866-3b9c-4db6-bcb3-d8b90c187137",
   "metadata": {},
   "source": [
    "Although this realizes parallelism, creating mutliple Python instances has a bunch of overhead. We will dive into this later when we discuss threads and processes as operating systems abstractions. Parallel threads are more efficient than processes on a multicore computer. It's a shortcoming of Python that it cannot do parallelism in threads.\n",
    "\n",
    "You will hear language about 'optimized packages that release the GIL'. The idea is that the functions release the lock during execution so that other threads can access the Python interpreter while the function is running. Packages that release the GIL realize parallelism in threads.  Each thread will:\n",
    "  1. acquire the GIL\n",
    "  2. execute a command in the Python interpreter\n",
    "  3. release the GIL at the start of execution\n",
    "  4. continue execution\n",
    "  \n",
    "This works sometimes. It requires careful programming by the package maintainer. Personally, I have found threads to be ineffective in Python. To realize parallelism, every function that you call inside a thread must release the GIL."
   ]
  },
  {
   "cell_type": "code",
   "execution_count": null,
   "id": "4e8a23ef-ec16-442d-865d-891caaff3b03",
   "metadata": {},
   "outputs": [],
   "source": []
  },
  {
   "cell_type": "code",
   "execution_count": null,
   "id": "31f5d5c6-5a72-4a29-91a3-461736b47811",
   "metadata": {},
   "outputs": [],
   "source": []
  }
 ],
 "metadata": {
  "kernelspec": {
   "display_name": "Python 3",
   "language": "python",
   "name": "python3"
  },
  "language_info": {
   "codemirror_mode": {
    "name": "ipython",
    "version": 3
   },
   "file_extension": ".py",
   "mimetype": "text/x-python",
   "name": "python",
   "nbconvert_exporter": "python",
   "pygments_lexer": "ipython3",
   "version": "3.9.1"
  }
 },
 "nbformat": 4,
 "nbformat_minor": 5
}
