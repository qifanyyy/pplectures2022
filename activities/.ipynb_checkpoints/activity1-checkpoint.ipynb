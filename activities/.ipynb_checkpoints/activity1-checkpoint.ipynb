{
 "cells": [
  {
   "cell_type": "markdown",
   "id": "1a67f85d-6cac-47aa-ab01-3bb1654d7099",
   "metadata": {},
   "source": [
    "###  Activity 1: All Possible Regressions\n",
    "\n",
    "This is a quick assignment.  I would expect it to only take a couple of hours to complete. The start of this notebook develops the example.  You will then parallelize the exammple using `joblib`. \n",
    "\n",
    "Run this on a machine that has at least 4 cores. Typically this is your laptop. The ugrad machines are also OK. Google Colab is not adequate. Fill out the requested cells toward the bottom of the notebook.\n",
    "\n",
    "**Due date**: September 16 1, 2022, 5:00 pm EDT.\n",
    "\n",
    "**Instructions for Submission**: Submit via Gradescope.\n",
    "\n",
    "#### Preparing the Environment\n",
    "\n",
    "You will need a couple of packages installed to make this work.  Stop your instance of jupyter lab and then run\n",
    "\n",
    "```\n",
    "conda install pandas pandoc\n",
    "jupyter lab\n",
    "```\n",
    "At this point, you should be ready to go.\n",
    "\n",
    "#### Example code\n",
    "\n",
    "This is a Python reimplementation of the Section 3.4. in _Matloff_, Parallel Computing for Data Science. It is based on data from https://www.kaggle.com/divan0/multiple-linear-regression. The notebook asks the question what combination of variables best predict the price of a house."
   ]
  },
  {
   "cell_type": "code",
   "execution_count": 1,
   "id": "a9525a93-0b4e-4a25-bf87-d4335132cffc",
   "metadata": {},
   "outputs": [
    {
     "data": {
      "text/html": [
       "<div>\n",
       "<style scoped>\n",
       "    .dataframe tbody tr th:only-of-type {\n",
       "        vertical-align: middle;\n",
       "    }\n",
       "\n",
       "    .dataframe tbody tr th {\n",
       "        vertical-align: top;\n",
       "    }\n",
       "\n",
       "    .dataframe thead th {\n",
       "        text-align: right;\n",
       "    }\n",
       "</style>\n",
       "<table border=\"1\" class=\"dataframe\">\n",
       "  <thead>\n",
       "    <tr style=\"text-align: right;\">\n",
       "      <th></th>\n",
       "      <th>id</th>\n",
       "      <th>date</th>\n",
       "      <th>price</th>\n",
       "      <th>bedrooms</th>\n",
       "      <th>bathrooms</th>\n",
       "      <th>sqft_living</th>\n",
       "      <th>sqft_lot</th>\n",
       "      <th>floors</th>\n",
       "      <th>waterfront</th>\n",
       "      <th>view</th>\n",
       "      <th>...</th>\n",
       "      <th>grade</th>\n",
       "      <th>sqft_above</th>\n",
       "      <th>sqft_basement</th>\n",
       "      <th>yr_built</th>\n",
       "      <th>yr_renovated</th>\n",
       "      <th>zipcode</th>\n",
       "      <th>lat</th>\n",
       "      <th>long</th>\n",
       "      <th>sqft_living15</th>\n",
       "      <th>sqft_lot15</th>\n",
       "    </tr>\n",
       "  </thead>\n",
       "  <tbody>\n",
       "    <tr>\n",
       "      <th>0</th>\n",
       "      <td>7129300520</td>\n",
       "      <td>20141013T000000</td>\n",
       "      <td>221900.0</td>\n",
       "      <td>3</td>\n",
       "      <td>1.00</td>\n",
       "      <td>1180</td>\n",
       "      <td>5650</td>\n",
       "      <td>1.0</td>\n",
       "      <td>0</td>\n",
       "      <td>0</td>\n",
       "      <td>...</td>\n",
       "      <td>7</td>\n",
       "      <td>1180.0</td>\n",
       "      <td>0</td>\n",
       "      <td>1955</td>\n",
       "      <td>0</td>\n",
       "      <td>98178</td>\n",
       "      <td>47.5112</td>\n",
       "      <td>-122.257</td>\n",
       "      <td>1340</td>\n",
       "      <td>5650</td>\n",
       "    </tr>\n",
       "    <tr>\n",
       "      <th>1</th>\n",
       "      <td>6414100192</td>\n",
       "      <td>20141209T000000</td>\n",
       "      <td>538000.0</td>\n",
       "      <td>3</td>\n",
       "      <td>2.25</td>\n",
       "      <td>2570</td>\n",
       "      <td>7242</td>\n",
       "      <td>2.0</td>\n",
       "      <td>0</td>\n",
       "      <td>0</td>\n",
       "      <td>...</td>\n",
       "      <td>7</td>\n",
       "      <td>2170.0</td>\n",
       "      <td>400</td>\n",
       "      <td>1951</td>\n",
       "      <td>1991</td>\n",
       "      <td>98125</td>\n",
       "      <td>47.7210</td>\n",
       "      <td>-122.319</td>\n",
       "      <td>1690</td>\n",
       "      <td>7639</td>\n",
       "    </tr>\n",
       "    <tr>\n",
       "      <th>2</th>\n",
       "      <td>5631500400</td>\n",
       "      <td>20150225T000000</td>\n",
       "      <td>180000.0</td>\n",
       "      <td>2</td>\n",
       "      <td>1.00</td>\n",
       "      <td>770</td>\n",
       "      <td>10000</td>\n",
       "      <td>1.0</td>\n",
       "      <td>0</td>\n",
       "      <td>0</td>\n",
       "      <td>...</td>\n",
       "      <td>6</td>\n",
       "      <td>770.0</td>\n",
       "      <td>0</td>\n",
       "      <td>1933</td>\n",
       "      <td>0</td>\n",
       "      <td>98028</td>\n",
       "      <td>47.7379</td>\n",
       "      <td>-122.233</td>\n",
       "      <td>2720</td>\n",
       "      <td>8062</td>\n",
       "    </tr>\n",
       "    <tr>\n",
       "      <th>3</th>\n",
       "      <td>2487200875</td>\n",
       "      <td>20141209T000000</td>\n",
       "      <td>604000.0</td>\n",
       "      <td>4</td>\n",
       "      <td>3.00</td>\n",
       "      <td>1960</td>\n",
       "      <td>5000</td>\n",
       "      <td>1.0</td>\n",
       "      <td>0</td>\n",
       "      <td>0</td>\n",
       "      <td>...</td>\n",
       "      <td>7</td>\n",
       "      <td>1050.0</td>\n",
       "      <td>910</td>\n",
       "      <td>1965</td>\n",
       "      <td>0</td>\n",
       "      <td>98136</td>\n",
       "      <td>47.5208</td>\n",
       "      <td>-122.393</td>\n",
       "      <td>1360</td>\n",
       "      <td>5000</td>\n",
       "    </tr>\n",
       "    <tr>\n",
       "      <th>4</th>\n",
       "      <td>1954400510</td>\n",
       "      <td>20150218T000000</td>\n",
       "      <td>510000.0</td>\n",
       "      <td>3</td>\n",
       "      <td>2.00</td>\n",
       "      <td>1680</td>\n",
       "      <td>8080</td>\n",
       "      <td>1.0</td>\n",
       "      <td>0</td>\n",
       "      <td>0</td>\n",
       "      <td>...</td>\n",
       "      <td>8</td>\n",
       "      <td>1680.0</td>\n",
       "      <td>0</td>\n",
       "      <td>1987</td>\n",
       "      <td>0</td>\n",
       "      <td>98074</td>\n",
       "      <td>47.6168</td>\n",
       "      <td>-122.045</td>\n",
       "      <td>1800</td>\n",
       "      <td>7503</td>\n",
       "    </tr>\n",
       "  </tbody>\n",
       "</table>\n",
       "<p>5 rows × 21 columns</p>\n",
       "</div>"
      ],
      "text/plain": [
       "           id             date     price  bedrooms  bathrooms  sqft_living  \\\n",
       "0  7129300520  20141013T000000  221900.0         3       1.00         1180   \n",
       "1  6414100192  20141209T000000  538000.0         3       2.25         2570   \n",
       "2  5631500400  20150225T000000  180000.0         2       1.00          770   \n",
       "3  2487200875  20141209T000000  604000.0         4       3.00         1960   \n",
       "4  1954400510  20150218T000000  510000.0         3       2.00         1680   \n",
       "\n",
       "   sqft_lot  floors  waterfront  view  ...  grade  sqft_above  sqft_basement  \\\n",
       "0      5650     1.0           0     0  ...      7      1180.0              0   \n",
       "1      7242     2.0           0     0  ...      7      2170.0            400   \n",
       "2     10000     1.0           0     0  ...      6       770.0              0   \n",
       "3      5000     1.0           0     0  ...      7      1050.0            910   \n",
       "4      8080     1.0           0     0  ...      8      1680.0              0   \n",
       "\n",
       "   yr_built  yr_renovated  zipcode      lat     long  sqft_living15  \\\n",
       "0      1955             0    98178  47.5112 -122.257           1340   \n",
       "1      1951          1991    98125  47.7210 -122.319           1690   \n",
       "2      1933             0    98028  47.7379 -122.233           2720   \n",
       "3      1965             0    98136  47.5208 -122.393           1360   \n",
       "4      1987             0    98074  47.6168 -122.045           1800   \n",
       "\n",
       "   sqft_lot15  \n",
       "0        5650  \n",
       "1        7639  \n",
       "2        8062  \n",
       "3        5000  \n",
       "4        7503  \n",
       "\n",
       "[5 rows x 21 columns]"
      ]
     },
     "execution_count": 1,
     "metadata": {},
     "output_type": "execute_result"
    }
   ],
   "source": [
    "import numpy as np\n",
    "import matplotlib.pyplot as plt\n",
    "import pandas as pd\n",
    "\n",
    "%matplotlib inline\n",
    "\n",
    "#importing dataset using panda\n",
    "dataset = pd.read_csv('../data/kc_house_data.csv')\n",
    "#to see what my dataset is comprised of\n",
    "dataset.head()"
   ]
  },
  {
   "cell_type": "code",
   "execution_count": 2,
   "id": "06ad55ee-ba79-4673-b693-ebca04f1bb77",
   "metadata": {},
   "outputs": [],
   "source": [
    "#dropping the id and date column\n",
    "dataset = dataset.drop(['id','date'], axis = 1)\n",
    "\n",
    "# clean out NaN and inf values\n",
    "dataset = dataset[~dataset.isin([np.nan, np.inf, -np.inf]).any(1)]"
   ]
  },
  {
   "cell_type": "markdown",
   "id": "f724288c-e17e-46a4-939b-c5ec0fc34a3b",
   "metadata": {},
   "source": [
    "Let's first do a simple regression. How does square footage predict price? "
   ]
  },
  {
   "cell_type": "code",
   "execution_count": 3,
   "id": "cbd8b494-d600-4bc9-9af7-15bef7796fb5",
   "metadata": {},
   "outputs": [
    {
     "name": "stdout",
     "output_type": "stream",
     "text": [
      "coefficient of determination: 0.4928817196006994\n"
     ]
    }
   ],
   "source": [
    "from sklearn.linear_model import LinearRegression\n",
    "\n",
    "X = np.array(dataset.sqft_living)\n",
    "Y = np.array(dataset.price)\n",
    "\n",
    "# shape X into matrix of a single column\n",
    "X = X.reshape((X.shape[0],1))\n",
    "\n",
    "model = LinearRegression()\n",
    "model.fit(X,Y)\n",
    "r_sq = model.score(X,Y)\n",
    "print('coefficient of determination:', r_sq)"
   ]
  },
  {
   "cell_type": "code",
   "execution_count": 4,
   "id": "97519567-fe0a-439e-a7e7-d97e4d56dea7",
   "metadata": {},
   "outputs": [
    {
     "data": {
      "image/png": "[encoded data removed]",
      "text/plain": [
       "<Figure size 432x288 with 1 Axes>"
      ]
     },
     "metadata": {},
     "output_type": "display_data"
    }
   ],
   "source": [
    "%matplotlib inline\n",
    "import matplotlib.pyplot as plt\n",
    "\n",
    "# scatter data\n",
    "plt.plot(X,Y,'o')\n",
    "# best fit line\n",
    "y_pred = model.intercept_ + model.coef_ * X\n",
    "plt.plot(X, y_pred, color='red', linewidth=3)\n",
    "\n",
    "plt.xticks(())\n",
    "plt.yticks(())\n",
    "\n",
    "plt.show()"
   ]
  },
  {
   "cell_type": "markdown",
   "id": "c639cbb5-6bdd-4032-812a-5bf8e0174833",
   "metadata": {},
   "source": [
    "We see that there is a strong correlation between square footage and house price.  The coefficient of determination measures the strength of the correlation and varies between 0 (no correlation) and 1.0 (perfectly correlated)."
   ]
  },
  {
   "cell_type": "markdown",
   "id": "0e2d9af2-3882-4c1d-9f58-038567ffd5ac",
   "metadata": {},
   "source": [
    "### Multiple Linear Regression\n",
    "\n",
    "Adding more variables often improves the score."
   ]
  },
  {
   "cell_type": "code",
   "execution_count": 5,
   "id": "fccb721f-db9f-4c58-ad3b-d7ed629791a2",
   "metadata": {},
   "outputs": [
    {
     "name": "stdout",
     "output_type": "stream",
     "text": [
      "coefficient of determination: 0.5249639858277426\n"
     ]
    }
   ],
   "source": [
    "X = np.array(dataset[['sqft_living','condition','yr_built']])\n",
    "Y = np.array(dataset.price)\n",
    "\n",
    "# shape X into matrix of a single column\n",
    "X = X.reshape((X.shape[0],3))\n",
    "\n",
    "model = LinearRegression()\n",
    "model.fit(X,Y)\n",
    "r_sq = model.score(X,Y)\n",
    "print('coefficient of determination:', r_sq)"
   ]
  },
  {
   "cell_type": "markdown",
   "id": "e900ab88-873c-4290-9d99-723cef811c6d",
   "metadata": {},
   "source": [
    "but some variables are confounding"
   ]
  },
  {
   "cell_type": "code",
   "execution_count": 6,
   "id": "ff60bd53-6ebc-4f13-8c78-5e81992aebd4",
   "metadata": {},
   "outputs": [
    {
     "name": "stdout",
     "output_type": "stream",
     "text": [
      "coefficient of determination: 0.13588749977708692\n"
     ]
    }
   ],
   "source": [
    "X = np.array(dataset[['zipcode','floors','waterfront']])\n",
    "Y = np.array(dataset.price)\n",
    "\n",
    "# shape X into matrix of a single column\n",
    "X = X.reshape((X.shape[0],3))\n",
    "\n",
    "model = LinearRegression()\n",
    "model.fit(X,Y)\n",
    "r_sq = model.score(X,Y)\n",
    "print('coefficient of determination:', r_sq)"
   ]
  },
  {
   "cell_type": "markdown",
   "id": "1d948a45-a861-423a-b2ce-8fcf1bf976c3",
   "metadata": {},
   "source": [
    "This leads to a first parallel program.  What are the right set of variables? A brute force approach called _All Possible Regressions_ examines all combinations. So, let's build a big matrix that and we will regress on subsets.  We will look at all combinations of 1, 2, or 3 variables."
   ]
  },
  {
   "cell_type": "code",
   "execution_count": 7,
   "id": "615005bd-f622-43a0-a844-c32f11e2676d",
   "metadata": {},
   "outputs": [],
   "source": [
    "from itertools import combinations, chain\n",
    "\n",
    "Y = np.array(dataset.price)\n",
    "X = np.array(dataset.drop(['price'], axis=1))\n",
    "\n",
    "## Let's choose all combinations of 1, 2, and 3 columns.\n",
    "col_idxs = np.array(range(X.shape[1]))\n",
    "combos = list(chain(combinations(col_idxs, 1), combinations(col_idxs, 2), combinations(col_idxs, 3)))"
   ]
  },
  {
   "cell_type": "code",
   "execution_count": 8,
   "id": "bc919ff9-24aa-4a9b-a4ee-efc84f8b51d9",
   "metadata": {},
   "outputs": [
    {
     "name": "stdout",
     "output_type": "stream",
     "text": [
      "0.6095149101819037 (2, 6, 14)\n"
     ]
    }
   ],
   "source": [
    "model = LinearRegression()\n",
    "\n",
    "# do in a for loop (dumbest way)\n",
    "r_sq_best = 0.0\n",
    "for combo in combos:\n",
    "    Xp = X[:,combo]\n",
    "    model = model.fit(Xp,Y)\n",
    "    r_sq = model.score(Xp,Y)\n",
    "    if r_sq > r_sq_best:\n",
    "        r_sq_best = r_sq\n",
    "        combo_best = combo\n",
    "print(r_sq_best, combo_best)"
   ]
  },
  {
   "cell_type": "markdown",
   "id": "603e45b6-80e4-4c6c-9a2f-1e8a728b1e5b",
   "metadata": {},
   "source": [
    "The outcome is kind of crazy. The fields are `sqft-living`, `view`, and `latitude`. Latitude is probably a somewhat accurate proxy for wealth in this area, e.g. N of town richer than south of town. But, this is the kind of outcome that would not translate to other regions, i.e. is likely specific to this data.  _Neat_.\n",
    "\n",
    "Back to performance."
   ]
  },
  {
   "cell_type": "code",
   "execution_count": 36,
   "id": "0e8377d0-63a9-439c-be04-92d19f25e71c",
   "metadata": {},
   "outputs": [
    {
     "name": "stdout",
     "output_type": "stream",
     "text": [
      "2.29 s ± 363 ms per loop (mean ± std. dev. of 7 runs, 1 loop each)\n"
     ]
    }
   ],
   "source": [
    "%%timeit\n",
    "model = LinearRegression()\n",
    "\n",
    "r_sq_best = 0.0\n",
    "for combo in combos:\n",
    "    Xp = X[:,combo]\n",
    "    model = model.fit(Xp,Y)\n",
    "    r_sq = model.score(Xp,Y)\n",
    "    if r_sq > r_sq_best:\n",
    "        r_sq_best = r_sq\n",
    "        combo_best = combo"
   ]
  },
  {
   "cell_type": "markdown",
   "id": "9f8f2fb1-6df7-4902-9e5a-ed4ccfc231a1",
   "metadata": {},
   "source": [
    "Let's see if flattening the loop matters. Replace for loop with a list comprehension of all combination of variables."
   ]
  },
  {
   "cell_type": "code",
   "execution_count": 10,
   "id": "7993f4bd-6331-42f5-b909-31c6f1b659cf",
   "metadata": {},
   "outputs": [],
   "source": [
    "def r_sq_regression (combo):\n",
    "    Xp = X[:,combo]\n",
    "    model = LinearRegression()\n",
    "    model = model.fit(Xp,Y)\n",
    "    return model.score(Xp,Y)"
   ]
  },
  {
   "cell_type": "code",
   "execution_count": 11,
   "id": "96184a66-012a-4068-a462-677fcafb2ba7",
   "metadata": {},
   "outputs": [
    {
     "name": "stdout",
     "output_type": "stream",
     "text": [
      "[(2, 6, 14) 0.6095149101819037]\n"
     ]
    }
   ],
   "source": [
    "r_sq_list = [ (combo, r_sq_regression(combo)) for combo in combos ]\n",
    "r_sq_arr = np.array(r_sq_list, dtype=object)\n",
    "r_sq_idx = np.argmax(r_sq_arr[:,1])\n",
    "print(r_sq_arr[r_sq_idx])"
   ]
  },
  {
   "cell_type": "code",
   "execution_count": 12,
   "id": "efbf14c0-c47c-4b51-aed3-cde5f1b9af7e",
   "metadata": {},
   "outputs": [
    {
     "name": "stdout",
     "output_type": "stream",
     "text": [
      "3.05 s ± 669 ms per loop (mean ± std. dev. of 7 runs, 1 loop each)\n"
     ]
    }
   ],
   "source": [
    "%%timeit\n",
    "r_sq_list = [ (combo, r_sq_regression(combo)) for combo in combos ]\n",
    "r_sq_arr = np.array(r_sq_list, dtype=object)\n",
    "r_sq_idx = np.argmax(r_sq_arr[:,1])"
   ]
  },
  {
   "cell_type": "markdown",
   "id": "e3298cb7-ab53-4a34-8442-883faa04a8ab",
   "metadata": {},
   "source": [
    "It didn't seem to help. But, this is a step toward parallelization.\n",
    "\n",
    "### Exercise (This is the assignment)\n",
    "\n",
    "1. Use `joblib.Parallel` and `joblib.delayed` to parallelize the computation of the calls to `r_sq_regression`. \n",
    "    1. In one cell, print the answer to verify that your parallel program is correct.\n",
    "    2. In another cell time the computation. What is the speedup at `n_jobs=4`?\n",
    "    3. Estimate the Amdahl number for this computation. Show your work."
   ]
  },
  {
   "cell_type": "code",
   "execution_count": 13,
   "id": "d1194559-1102-4978-bc80-a4911dddf37f",
   "metadata": {},
   "outputs": [
    {
     "data": {
      "text/plain": [
       "987"
      ]
     },
     "execution_count": 13,
     "metadata": {},
     "output_type": "execute_result"
    }
   ],
   "source": [
    "# TODO code for 1A\n",
    "\n",
    "from joblib import Parallel, delayed\n",
    "\n",
    "r_sq_list = [ (combo, r_sq_regression(combo)) for combo in combos ]\n",
    "r_sq_arr = np.array(r_sq_list, dtype=object)\n",
    "r_sq_idx = np.argmax(r_sq_arr[:,1])\n",
    "partials = Parallel(n_jobs=4)(delayed(r_sq_regression)(combo) for combo in combos)\n",
    "\n",
    "outmat = np.array(partials)\n",
    "np.count_nonzero(outmat)"
   ]
  },
  {
   "cell_type": "code",
   "execution_count": 14,
   "id": "3643a3bb-383c-4da9-aa94-e2f35e9b67ad",
   "metadata": {},
   "outputs": [
    {
     "name": "stdout",
     "output_type": "stream",
     "text": [
      "996 ms ± 83.5 ms per loop (mean ± std. dev. of 7 runs, 1 loop each)\n"
     ]
    }
   ],
   "source": [
    "%%timeit \n",
    "# TODO code for 1B \n",
    "partials = Parallel(n_jobs=4)(delayed(r_sq_regression)(combo) for combo in combos)"
   ]
  },
  {
   "cell_type": "code",
   "execution_count": 33,
   "id": "functioning-brisbane",
   "metadata": {},
   "outputs": [
    {
     "name": "stdout",
     "output_type": "stream",
     "text": [
      "0.8979234972677596\n"
     ]
    }
   ],
   "source": [
    "speedup = 3.05 / 0.996\n",
    "processors = 4\n",
    "amdahl_number = processors/(processors-1)*(1-1/speedup)\n",
    "print(amdahl_number)"
   ]
  },
  {
   "cell_type": "markdown",
   "id": "ed98d844-2cb4-4760-928d-bc2511399d9d",
   "metadata": {},
   "source": [
    "**TODO Answer for 1B**"
   ]
  },
  {
   "cell_type": "markdown",
   "id": "ec4d94a2-fb3d-4d04-a315-6c913e677fad",
   "metadata": {},
   "source": [
    "2. Use the batch size parameter to vary the number of jobs in each batch from 1,2,...128 @ n_jobs=4. You will need to look at the joblib documentation to read up about batch size.\n",
    "   1. Plot your results (use %timeit -o to capture output)\n",
    "   2. Model the problem as having two performance components: a fixed startup cost per batch ($C_B$) and perfect parallelism.  Estimate the batch startup cost (give a range).\n",
    "   3. Your answer to the batch startup costs should be noisy, i.e. there is not a consistent estimate for startup costs across all batch sizes. This indicates that a fixed startup cost per batch is not a good model. Consider other startup costs, such as skew, interference, and startup costs (per job). What do you think is a reasonable explanation for the inefficiency? What factors are possible?  Which factors can you eliminate?"
   ]
  },
  {
   "cell_type": "code",
   "execution_count": 19,
   "id": "0ebbd6e8-16ae-4a89-bed8-05f10bda3f17",
   "metadata": {},
   "outputs": [
    {
     "name": "stdout",
     "output_type": "stream",
     "text": [
      "2.48 s ± 408 ms per loop (mean ± std. dev. of 7 runs, 1 loop each)\n",
      "4.19 s ± 986 ms per loop (mean ± std. dev. of 7 runs, 1 loop each)\n",
      "4.25 s ± 1.01 s per loop (mean ± std. dev. of 7 runs, 1 loop each)\n",
      "3.71 s ± 517 ms per loop (mean ± std. dev. of 7 runs, 1 loop each)\n",
      "3.34 s ± 248 ms per loop (mean ± std. dev. of 7 runs, 1 loop each)\n",
      "2.93 s ± 216 ms per loop (mean ± std. dev. of 7 runs, 1 loop each)\n",
      "2.7 s ± 238 ms per loop (mean ± std. dev. of 7 runs, 1 loop each)\n",
      "2.81 s ± 135 ms per loop (mean ± std. dev. of 7 runs, 1 loop each)\n",
      "2.85 s ± 140 ms per loop (mean ± std. dev. of 7 runs, 1 loop each)\n",
      "2.95 s ± 163 ms per loop (mean ± std. dev. of 7 runs, 1 loop each)\n",
      "2.61 s ± 343 ms per loop (mean ± std. dev. of 7 runs, 1 loop each)\n",
      "2.74 s ± 117 ms per loop (mean ± std. dev. of 7 runs, 1 loop each)\n",
      "2.95 s ± 189 ms per loop (mean ± std. dev. of 7 runs, 1 loop each)\n",
      "2.93 s ± 352 ms per loop (mean ± std. dev. of 7 runs, 1 loop each)\n",
      "2.55 s ± 471 ms per loop (mean ± std. dev. of 7 runs, 1 loop each)\n",
      "2.35 s ± 309 ms per loop (mean ± std. dev. of 7 runs, 1 loop each)\n",
      "2.79 s ± 265 ms per loop (mean ± std. dev. of 7 runs, 1 loop each)\n",
      "2.24 s ± 34.1 ms per loop (mean ± std. dev. of 7 runs, 1 loop each)\n",
      "2.44 s ± 157 ms per loop (mean ± std. dev. of 7 runs, 1 loop each)\n",
      "2.41 s ± 295 ms per loop (mean ± std. dev. of 7 runs, 1 loop each)\n",
      "2.3 s ± 126 ms per loop (mean ± std. dev. of 7 runs, 1 loop each)\n",
      "2.25 s ± 222 ms per loop (mean ± std. dev. of 7 runs, 1 loop each)\n",
      "2.67 s ± 104 ms per loop (mean ± std. dev. of 7 runs, 1 loop each)\n",
      "2.07 s ± 61.6 ms per loop (mean ± std. dev. of 7 runs, 1 loop each)\n",
      "2.33 s ± 102 ms per loop (mean ± std. dev. of 7 runs, 1 loop each)\n",
      "1.87 s ± 562 ms per loop (mean ± std. dev. of 7 runs, 1 loop each)\n",
      "1.22 s ± 72.7 ms per loop (mean ± std. dev. of 7 runs, 1 loop each)\n",
      "1.33 s ± 88.8 ms per loop (mean ± std. dev. of 7 runs, 1 loop each)\n",
      "1.21 s ± 76.6 ms per loop (mean ± std. dev. of 7 runs, 1 loop each)\n",
      "1.24 s ± 46.1 ms per loop (mean ± std. dev. of 7 runs, 1 loop each)\n",
      "1.46 s ± 153 ms per loop (mean ± std. dev. of 7 runs, 1 loop each)\n",
      "1.56 s ± 161 ms per loop (mean ± std. dev. of 7 runs, 1 loop each)\n",
      "1.7 s ± 189 ms per loop (mean ± std. dev. of 7 runs, 1 loop each)\n",
      "1.36 s ± 41.2 ms per loop (mean ± std. dev. of 7 runs, 1 loop each)\n",
      "1.63 s ± 191 ms per loop (mean ± std. dev. of 7 runs, 1 loop each)\n",
      "1.6 s ± 168 ms per loop (mean ± std. dev. of 7 runs, 1 loop each)\n",
      "1.4 s ± 134 ms per loop (mean ± std. dev. of 7 runs, 1 loop each)\n",
      "1.36 s ± 87.5 ms per loop (mean ± std. dev. of 7 runs, 1 loop each)\n",
      "1.41 s ± 77.4 ms per loop (mean ± std. dev. of 7 runs, 1 loop each)\n",
      "1.62 s ± 178 ms per loop (mean ± std. dev. of 7 runs, 1 loop each)\n",
      "1.43 s ± 103 ms per loop (mean ± std. dev. of 7 runs, 1 loop each)\n",
      "1.31 s ± 30.7 ms per loop (mean ± std. dev. of 7 runs, 1 loop each)\n",
      "1.45 s ± 176 ms per loop (mean ± std. dev. of 7 runs, 1 loop each)\n",
      "1.32 s ± 65.9 ms per loop (mean ± std. dev. of 7 runs, 1 loop each)\n",
      "1.4 s ± 73.8 ms per loop (mean ± std. dev. of 7 runs, 1 loop each)\n",
      "1.33 s ± 40.9 ms per loop (mean ± std. dev. of 7 runs, 1 loop each)\n",
      "1.24 s ± 67.8 ms per loop (mean ± std. dev. of 7 runs, 1 loop each)\n",
      "1.13 s ± 22.1 ms per loop (mean ± std. dev. of 7 runs, 1 loop each)\n",
      "1.13 s ± 52 ms per loop (mean ± std. dev. of 7 runs, 1 loop each)\n",
      "1.19 s ± 74.4 ms per loop (mean ± std. dev. of 7 runs, 1 loop each)\n",
      "1.27 s ± 56.1 ms per loop (mean ± std. dev. of 7 runs, 1 loop each)\n",
      "1.28 s ± 65.2 ms per loop (mean ± std. dev. of 7 runs, 1 loop each)\n",
      "1.15 s ± 55.7 ms per loop (mean ± std. dev. of 7 runs, 1 loop each)\n",
      "1.22 s ± 78.8 ms per loop (mean ± std. dev. of 7 runs, 1 loop each)\n",
      "1.39 s ± 89 ms per loop (mean ± std. dev. of 7 runs, 1 loop each)\n",
      "1.28 s ± 79 ms per loop (mean ± std. dev. of 7 runs, 1 loop each)\n",
      "1.46 s ± 371 ms per loop (mean ± std. dev. of 7 runs, 1 loop each)\n",
      "2.19 s ± 279 ms per loop (mean ± std. dev. of 7 runs, 1 loop each)\n",
      "1.66 s ± 187 ms per loop (mean ± std. dev. of 7 runs, 1 loop each)\n",
      "1.35 s ± 77.5 ms per loop (mean ± std. dev. of 7 runs, 1 loop each)\n",
      "1.29 s ± 90.7 ms per loop (mean ± std. dev. of 7 runs, 1 loop each)\n",
      "1.66 s ± 175 ms per loop (mean ± std. dev. of 7 runs, 1 loop each)\n",
      "1.28 s ± 83 ms per loop (mean ± std. dev. of 7 runs, 1 loop each)\n",
      "1.35 s ± 131 ms per loop (mean ± std. dev. of 7 runs, 1 loop each)\n",
      "1.78 s ± 174 ms per loop (mean ± std. dev. of 7 runs, 1 loop each)\n",
      "1.49 s ± 134 ms per loop (mean ± std. dev. of 7 runs, 1 loop each)\n",
      "1.31 s ± 118 ms per loop (mean ± std. dev. of 7 runs, 1 loop each)\n",
      "1.27 s ± 56.4 ms per loop (mean ± std. dev. of 7 runs, 1 loop each)\n",
      "1.66 s ± 167 ms per loop (mean ± std. dev. of 7 runs, 1 loop each)\n",
      "1.52 s ± 67.1 ms per loop (mean ± std. dev. of 7 runs, 1 loop each)\n",
      "1.39 s ± 111 ms per loop (mean ± std. dev. of 7 runs, 1 loop each)\n",
      "1.45 s ± 188 ms per loop (mean ± std. dev. of 7 runs, 1 loop each)\n",
      "1.43 s ± 149 ms per loop (mean ± std. dev. of 7 runs, 1 loop each)\n",
      "1.25 s ± 82.7 ms per loop (mean ± std. dev. of 7 runs, 1 loop each)\n",
      "1.43 s ± 134 ms per loop (mean ± std. dev. of 7 runs, 1 loop each)\n",
      "1.43 s ± 175 ms per loop (mean ± std. dev. of 7 runs, 1 loop each)\n",
      "1.45 s ± 246 ms per loop (mean ± std. dev. of 7 runs, 1 loop each)\n",
      "1.82 s ± 344 ms per loop (mean ± std. dev. of 7 runs, 1 loop each)\n",
      "1.37 s ± 73.3 ms per loop (mean ± std. dev. of 7 runs, 1 loop each)\n",
      "1.32 s ± 127 ms per loop (mean ± std. dev. of 7 runs, 1 loop each)\n",
      "1.16 s ± 63.9 ms per loop (mean ± std. dev. of 7 runs, 1 loop each)\n",
      "1.2 s ± 56.4 ms per loop (mean ± std. dev. of 7 runs, 1 loop each)\n",
      "1.31 s ± 80.8 ms per loop (mean ± std. dev. of 7 runs, 1 loop each)\n",
      "1.44 s ± 244 ms per loop (mean ± std. dev. of 7 runs, 1 loop each)\n",
      "1.43 s ± 211 ms per loop (mean ± std. dev. of 7 runs, 1 loop each)\n",
      "1.29 s ± 136 ms per loop (mean ± std. dev. of 7 runs, 1 loop each)\n",
      "1.26 s ± 73.6 ms per loop (mean ± std. dev. of 7 runs, 1 loop each)\n",
      "1.26 s ± 56.8 ms per loop (mean ± std. dev. of 7 runs, 1 loop each)\n",
      "1.26 s ± 73.5 ms per loop (mean ± std. dev. of 7 runs, 1 loop each)\n",
      "1.32 s ± 115 ms per loop (mean ± std. dev. of 7 runs, 1 loop each)\n",
      "1.3 s ± 110 ms per loop (mean ± std. dev. of 7 runs, 1 loop each)\n",
      "1.25 s ± 96.7 ms per loop (mean ± std. dev. of 7 runs, 1 loop each)\n",
      "1.22 s ± 42.2 ms per loop (mean ± std. dev. of 7 runs, 1 loop each)\n",
      "1.59 s ± 253 ms per loop (mean ± std. dev. of 7 runs, 1 loop each)\n",
      "1.27 s ± 102 ms per loop (mean ± std. dev. of 7 runs, 1 loop each)\n",
      "1.3 s ± 103 ms per loop (mean ± std. dev. of 7 runs, 1 loop each)\n",
      "1.48 s ± 111 ms per loop (mean ± std. dev. of 7 runs, 1 loop each)\n",
      "1.34 s ± 65.9 ms per loop (mean ± std. dev. of 7 runs, 1 loop each)\n",
      "1.31 s ± 101 ms per loop (mean ± std. dev. of 7 runs, 1 loop each)\n",
      "1.33 s ± 106 ms per loop (mean ± std. dev. of 7 runs, 1 loop each)\n",
      "1.32 s ± 79.4 ms per loop (mean ± std. dev. of 7 runs, 1 loop each)\n",
      "1.37 s ± 79.9 ms per loop (mean ± std. dev. of 7 runs, 1 loop each)\n",
      "1.45 s ± 89.1 ms per loop (mean ± std. dev. of 7 runs, 1 loop each)\n",
      "1.34 s ± 48.4 ms per loop (mean ± std. dev. of 7 runs, 1 loop each)\n",
      "1.35 s ± 112 ms per loop (mean ± std. dev. of 7 runs, 1 loop each)\n",
      "1.29 s ± 111 ms per loop (mean ± std. dev. of 7 runs, 1 loop each)\n",
      "1.19 s ± 117 ms per loop (mean ± std. dev. of 7 runs, 1 loop each)\n",
      "1.19 s ± 102 ms per loop (mean ± std. dev. of 7 runs, 1 loop each)\n",
      "1.32 s ± 108 ms per loop (mean ± std. dev. of 7 runs, 1 loop each)\n",
      "1.62 s ± 363 ms per loop (mean ± std. dev. of 7 runs, 1 loop each)\n",
      "1.5 s ± 204 ms per loop (mean ± std. dev. of 7 runs, 1 loop each)\n",
      "1.32 s ± 116 ms per loop (mean ± std. dev. of 7 runs, 1 loop each)\n",
      "1.35 s ± 119 ms per loop (mean ± std. dev. of 7 runs, 1 loop each)\n",
      "1.57 s ± 346 ms per loop (mean ± std. dev. of 7 runs, 1 loop each)\n",
      "1.56 s ± 244 ms per loop (mean ± std. dev. of 7 runs, 1 loop each)\n",
      "1.32 s ± 81.7 ms per loop (mean ± std. dev. of 7 runs, 1 loop each)\n",
      "1.53 s ± 72.5 ms per loop (mean ± std. dev. of 7 runs, 1 loop each)\n",
      "1.56 s ± 76.9 ms per loop (mean ± std. dev. of 7 runs, 1 loop each)\n",
      "1.68 s ± 82.4 ms per loop (mean ± std. dev. of 7 runs, 1 loop each)\n",
      "1.49 s ± 137 ms per loop (mean ± std. dev. of 7 runs, 1 loop each)\n",
      "1.32 s ± 71.4 ms per loop (mean ± std. dev. of 7 runs, 1 loop each)\n",
      "1.22 s ± 60.8 ms per loop (mean ± std. dev. of 7 runs, 1 loop each)\n"
     ]
    },
    {
     "name": "stdout",
     "output_type": "stream",
     "text": [
      "1.33 s ± 73.5 ms per loop (mean ± std. dev. of 7 runs, 1 loop each)\n",
      "1.56 s ± 140 ms per loop (mean ± std. dev. of 7 runs, 1 loop each)\n",
      "1.61 s ± 92.3 ms per loop (mean ± std. dev. of 7 runs, 1 loop each)\n",
      "1.59 s ± 103 ms per loop (mean ± std. dev. of 7 runs, 1 loop each)\n",
      "1.67 s ± 112 ms per loop (mean ± std. dev. of 7 runs, 1 loop each)\n",
      "1.55 s ± 56.4 ms per loop (mean ± std. dev. of 7 runs, 1 loop each)\n"
     ]
    }
   ],
   "source": [
    "# code for 2A\n",
    "\n",
    "func1_time = [None] * 128\n",
    "for i in range(1,129):\n",
    "    foo =  %timeit -o Parallel(n_jobs=4,batch_size = i)(delayed(r_sq_regression)(combo) for combo in combos)\n",
    "    func1_time[i-1] = mean(foo.timings) \n",
    "for index,i in enumerate(func1_time):\n",
    "    func1_time[index]= sum(func1_time[index]) / len(func1_time[index])"
   ]
  },
  {
   "cell_type": "code",
   "execution_count": 31,
   "id": "f3b5cf1b-4914-4294-8077-844c16e8aabc",
   "metadata": {},
   "outputs": [
    {
     "data": {
      "image/png": "[encoded data removed]",
      "text/plain": [
       "<Figure size 576x432 with 1 Axes>"
      ]
     },
     "metadata": {
      "needs_background": "light"
     },
     "output_type": "display_data"
    }
   ],
   "source": [
    "%matplotlib inline\n",
    "batches = np.array(range(1,129))\n",
    "\n",
    "dfdata = {'batches': batches, 'func1_time': func1_time}\n",
    "df = pd.DataFrame(dfdata)\n",
    "\n",
    "%matplotlib inline\n",
    "\n",
    "plt.figure(figsize=(8,6))\n",
    "plt.plot(df.batches, df.func1_time, linewidth=3, label='function_time')\n",
    "plt.xlabel('batches')\n",
    "plt.ylabel('function_time')\n",
    "plt.legend()\n",
    "plt.show()\n",
    "# TODO plot for 2A"
   ]
  },
  {
   "cell_type": "code",
   "execution_count": null,
   "id": "a3b23ce8-19a3-4505-9904-f042ec73745e",
   "metadata": {},
   "outputs": [],
   "source": [
    "# code for 2B"
   ]
  },
  {
   "cell_type": "markdown",
   "id": "9d662db6-2c99-45c2-a71b-a4482c454371",
   "metadata": {},
   "source": [
    "**TODO Answer for 2B**"
   ]
  },
  {
   "cell_type": "markdown",
   "id": "57b3cb77-8d34-4eab-bc1a-09fd8266a07f",
   "metadata": {},
   "source": [
    "3. Run the job with `prefer='threads'` and `prefer='processes'`. Given that `LinearRegression.fit()`. You do not need to vary batch size for this part.\n",
    "    1. Which is more efficient?  Why? Consider our discussion of parallel threads in python.\n",
    "    2. Can you conclude that `LinearRegression.fit()` does or does not release the GIL? Explain.\n",
    "\n",
    "_Note_: you can verify this conclusion by calling `LinearRegression.fit()` directly, rather than calling the wrapper functions `r_sq_regression`."
   ]
  },
  {
   "cell_type": "code",
   "execution_count": 63,
   "id": "192d3aed-d2c7-45c8-83bd-83462fdc24bb",
   "metadata": {},
   "outputs": [
    {
     "name": "stdout",
     "output_type": "stream",
     "text": [
      "1.84 s ± 102 ms per loop (mean ± std. dev. of 7 runs, 1 loop each)\n",
      "1.7044239649985684\n",
      "1.85 s ± 72.9 ms per loop (mean ± std. dev. of 7 runs, 1 loop each)\n",
      "1.778680315001111\n",
      "1.87 s ± 54.1 ms per loop (mean ± std. dev. of 7 runs, 1 loop each)\n",
      "1.7980848400002287\n",
      "1.82 s ± 19.6 ms per loop (mean ± std. dev. of 7 runs, 1 loop each)\n",
      "1.7712084189988673\n",
      "1.91 s ± 91.6 ms per loop (mean ± std. dev. of 7 runs, 1 loop each)\n",
      "1.8217098380009702\n",
      "2.04 s ± 98.1 ms per loop (mean ± std. dev. of 7 runs, 1 loop each)\n",
      "1.9390851669995754\n",
      "1.95 s ± 88.6 ms per loop (mean ± std. dev. of 7 runs, 1 loop each)\n",
      "1.844655167999008\n",
      "1.95 s ± 60.8 ms per loop (mean ± std. dev. of 7 runs, 1 loop each)\n",
      "1.8742718260000402\n",
      "15.3 s ± 525 ms per loop (mean ± std. dev. of 7 runs, 1 loop each)\n"
     ]
    }
   ],
   "source": [
    "%%timeit \n",
    "thread_time =  %timeit -o Parallel(n_jobs=4,prefer='threads')(delayed(r_sq_regression)(combo) for combo in combos)\n",
    "print(thread_time.best)"
   ]
  },
  {
   "cell_type": "markdown",
   "id": "3b831431-437f-48e8-b24c-3952a8ab2ebf",
   "metadata": {},
   "source": [
    "**TODO Answer to 3**"
   ]
  },
  {
   "cell_type": "code",
   "execution_count": 64,
   "id": "23e2c81e-aa2d-487e-bbce-f5c48ab45b0c",
   "metadata": {},
   "outputs": [
    {
     "name": "stdout",
     "output_type": "stream",
     "text": [
      "901 ms ± 42.4 ms per loop (mean ± std. dev. of 7 runs, 1 loop each)\n",
      "0.8448004080019018\n",
      "893 ms ± 22 ms per loop (mean ± std. dev. of 7 runs, 1 loop each)\n",
      "0.8510710730006394\n",
      "945 ms ± 82.8 ms per loop (mean ± std. dev. of 7 runs, 1 loop each)\n",
      "0.860126528001274\n",
      "918 ms ± 127 ms per loop (mean ± std. dev. of 7 runs, 1 loop each)\n",
      "0.7632312730020203\n",
      "850 ms ± 26.4 ms per loop (mean ± std. dev. of 7 runs, 1 loop each)\n",
      "0.8216268440010026\n",
      "862 ms ± 36.9 ms per loop (mean ± std. dev. of 7 runs, 1 loop each)\n",
      "0.8121962969999004\n",
      "869 ms ± 20.3 ms per loop (mean ± std. dev. of 7 runs, 1 loop each)\n",
      "0.8390327829984017\n",
      "866 ms ± 11.6 ms per loop (mean ± std. dev. of 7 runs, 1 loop each)\n",
      "0.8506258859997615\n",
      "7.09 s ± 244 ms per loop (mean ± std. dev. of 7 runs, 1 loop each)\n"
     ]
    }
   ],
   "source": [
    "%%timeit \n",
    "thread_time =  %timeit -o Parallel(n_jobs=4,prefer='processes')(delayed(r_sq_regression)(combo) for combo in combos)\n",
    "print(thread_time.best)"
   ]
  },
  {
   "cell_type": "raw",
   "id": "scheduled-hamburg",
   "metadata": {},
   "source": [
    "LinearRegression.fit() does not release the GIL for thread and process."
   ]
  }
 ],
 "metadata": {
  "kernelspec": {
   "display_name": "Python 3",
   "language": "python",
   "name": "python3"
  },
  "language_info": {
   "codemirror_mode": {
    "name": "ipython",
    "version": 3
   },
   "file_extension": ".py",
   "mimetype": "text/x-python",
   "name": "python",
   "nbconvert_exporter": "python",
   "pygments_lexer": "ipython3",
   "version": "3.9.1"
  }
 },
 "nbformat": 4,
 "nbformat_minor": 5
}
